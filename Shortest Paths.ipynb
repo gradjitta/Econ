{
 "cells": [
  {
   "cell_type": "code",
   "execution_count": 2,
   "metadata": {
    "collapsed": false
   },
   "outputs": [
    {
     "data": {
      "text/plain": [
       "read_graph (generic function with 1 method)"
      ]
     },
     "execution_count": 2,
     "metadata": {},
     "output_type": "execute_result"
    }
   ],
   "source": [
    "function read_graph(in_file)\n",
    "    graph = Dict()\n",
    "    infile = open(in_file, \"r\")\n",
    "    for line in readlines(infile)\n",
    "        elements = reverse!(split(line, ','))\n",
    "        node = strip(pop!(elements))\n",
    "        graph[node] = {}\n",
    "        if node != \"node99\"\n",
    "            for element in elements\n",
    "                dest, cost = split(element)\n",
    "                push!(graph[node], {strip(dest), float(cost)})\n",
    "            end\n",
    "        end\n",
    "        \n",
    "    end\n",
    "    close(infile)\n",
    "    return graph\n",
    "end"
   ]
  },
  {
   "cell_type": "code",
   "execution_count": 3,
   "metadata": {
    "collapsed": false
   },
   "outputs": [
    {
     "data": {
      "text/plain": [
       "update_J (generic function with 1 method)"
      ]
     },
     "execution_count": 3,
     "metadata": {},
     "output_type": "execute_result"
    }
   ],
   "source": [
    "function update_J(J, graph)\n",
    "    next_J = Dict()\n",
    "    for node in keys(graph)\n",
    "        if node == \"node99\"\n",
    "            next_J[node] = 0\n",
    "        else\n",
    "            next_J[node] = minimum([cost + J[dest] for (dest, cost) in graph[node]])\n",
    "        end\n",
    "    end\n",
    "    return next_J\n",
    "end"
   ]
  },
  {
   "cell_type": "code",
   "execution_count": 4,
   "metadata": {
    "collapsed": false
   },
   "outputs": [
    {
     "data": {
      "text/plain": [
       "print_best_path (generic function with 1 method)"
      ]
     },
     "execution_count": 4,
     "metadata": {},
     "output_type": "execute_result"
    }
   ],
   "source": [
    "function print_best_path(J, graph)\n",
    "    sum_costs = 0\n",
    "    current_location = \"node0\"\n",
    "    while current_location != \"node99\"\n",
    "        println(current_location)\n",
    "        running_min = 1e10\n",
    "        minimizer_dest = \"none\"\n",
    "        minimizer_cost = 1e10\n",
    "        for (dest, cost) in graph[current_location]\n",
    "            cost_of_path = cost + J[dest]\n",
    "            if cost_of_path < running_min\n",
    "                running_min = cost_of_path\n",
    "                minimizer_cost = cost\n",
    "                minimizer_dest = dest\n",
    "            end\n",
    "        end\n",
    "        \n",
    "        current_location = minimizer_dest\n",
    "        sum_costs += minimizer_cost\n",
    "    end\n",
    "    \n",
    "    println(\"node99\")\n",
    "    @printf \"\\nCost: %.2f\" sum_costs\n",
    "end"
   ]
  },
  {
   "cell_type": "code",
   "execution_count": 5,
   "metadata": {
    "collapsed": false
   },
   "outputs": [
    {
     "name": "stdout",
     "output_type": "stream",
     "text": [
      "node0\n",
      "node8\n",
      "node11\n",
      "node18\n",
      "node23\n",
      "node33\n",
      "node41\n",
      "node53\n",
      "node56\n",
      "node57\n",
      "node60\n",
      "node67\n",
      "node70\n",
      "node73\n",
      "node76\n",
      "node85\n",
      "node87\n",
      "node88\n",
      "node93\n",
      "node94\n",
      "node96\n",
      "node97\n",
      "node98\n",
      "node99\n",
      "\n",
      "Cost: 160.55"
     ]
    }
   ],
   "source": [
    "graph = read_graph(\"graph.txt\")\n",
    "M = 1e10\n",
    "J = Dict()\n",
    "for node in keys(graph)\n",
    "    J[node] = M\n",
    "end\n",
    "J[\"node99\"] = 0\n",
    "\n",
    "while true\n",
    "    next_J = update_J(J, graph)\n",
    "    if next_J == J\n",
    "        break\n",
    "    else\n",
    "        J = next_J\n",
    "    end\n",
    "end\n",
    "\n",
    "print_best_path(J, graph)"
   ]
  },
  {
   "cell_type": "code",
   "execution_count": null,
   "metadata": {
    "collapsed": true
   },
   "outputs": [],
   "source": []
  },
  {
   "cell_type": "code",
   "execution_count": null,
   "metadata": {
    "collapsed": true
   },
   "outputs": [],
   "source": []
  }
 ],
 "metadata": {
  "anaconda-cloud": {},
  "kernelspec": {
   "display_name": "Julia 0.4.6",
   "language": "julia",
   "name": "julia-0.4"
  },
  "language_info": {
   "file_extension": ".jl",
   "mimetype": "application/julia",
   "name": "julia",
   "version": "0.4.6"
  }
 },
 "nbformat": 4,
 "nbformat_minor": 1
}
