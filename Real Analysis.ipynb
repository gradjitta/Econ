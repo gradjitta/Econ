{
 "cells": [
  {
   "cell_type": "markdown",
   "metadata": {},
   "source": [
    "Bernouilli's ineq\n",
    "\n",
    "$$ (1+x)^n \\geq 1 + nx \\quad \\forall \\quad x > -1, n \\in N $$"
   ]
  },
  {
   "cell_type": "code",
   "execution_count": 12,
   "metadata": {
    "collapsed": false
   },
   "outputs": [
    {
     "name": "stdout",
     "output_type": "stream",
     "text": [
      "0.5  >=  0.5\n",
      "0.25  >=  0.0\n",
      "0.125  >=  -0.5\n",
      "0.0625  >=  -1.0\n",
      "0.03125  >=  -1.5\n",
      "0.015625  >=  -2.0\n",
      "0.0078125  >=  -2.5\n",
      "0.00390625  >=  -3.0\n",
      "0.001953125  >=  -3.5\n",
      "0.0009765625  >=  -4.0\n",
      "0.00048828125  >=  -4.5\n",
      "0.000244140625  >=  -5.0\n",
      "0.0001220703125  >=  -5.5\n",
      "6.103515625e-5  >=  -6.0\n",
      "3.0517578125e-5  >=  -6.5\n",
      "1.52587890625e-5  >=  -7.0\n",
      "7.62939453125e-6  >=  -7.5\n",
      "3.814697265625e-6  >=  -8.0\n",
      "1.9073486328125e-6  >=  -8.5\n",
      "9.5367431640625e-7  >=  -9.0\n"
     ]
    }
   ],
   "source": [
    "x = -0.5\n",
    "for n in 1:20\n",
    "    lhs = (1+x)^n\n",
    "    rhs = 1 + n*x\n",
    "    println(lhs, \"  >=  \",rhs)\n",
    "end"
   ]
  },
  {
   "cell_type": "code",
   "execution_count": 13,
   "metadata": {
    "collapsed": false
   },
   "outputs": [
    {
     "data": {
      "text/plain": [
       "3-element Array{Int64,1}:\n",
       " 1\n",
       " 4\n",
       " 3"
      ]
     },
     "execution_count": 13,
     "metadata": {},
     "output_type": "execute_result"
    }
   ],
   "source": [
    "max([1,2,3],[1,4,1])"
   ]
  },
  {
   "cell_type": "code",
   "execution_count": 15,
   "metadata": {
    "collapsed": false
   },
   "outputs": [],
   "source": [
    "using PyCall"
   ]
  },
  {
   "cell_type": "code",
   "execution_count": 16,
   "metadata": {
    "collapsed": true
   },
   "outputs": [],
   "source": [
    "using PyPlot"
   ]
  },
  {
   "cell_type": "code",
   "execution_count": 17,
   "metadata": {
    "collapsed": false
   },
   "outputs": [
    {
     "ename": "LoadError",
     "evalue": "LoadError: ArgumentError: haskey of NULL PyObject\nwhile loading In[17], in expression starting on line 1",
     "output_type": "error",
     "traceback": [
      "LoadError: ArgumentError: haskey of NULL PyObject\nwhile loading In[17], in expression starting on line 1",
      "",
      " in haskey at C:\\Users\\Willem\\.julia\\v0.4\\PyCall\\src\\PyCall.jl:282",
      " in plot at C:\\Users\\Willem\\.julia\\v0.4\\PyPlot\\src\\PyPlot.jl:392"
     ]
    }
   ],
   "source": [
    "plot([1,1],[2,2])"
   ]
  },
  {
   "cell_type": "code",
   "execution_count": null,
   "metadata": {
    "collapsed": true
   },
   "outputs": [],
   "source": []
  }
 ],
 "metadata": {
  "anaconda-cloud": {},
  "kernelspec": {
   "display_name": "Julia 0.4.6",
   "language": "julia",
   "name": "julia-0.4"
  },
  "language_info": {
   "file_extension": ".jl",
   "mimetype": "application/julia",
   "name": "julia",
   "version": "0.4.6"
  }
 },
 "nbformat": 4,
 "nbformat_minor": 1
}
