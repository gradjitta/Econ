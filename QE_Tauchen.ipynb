{
 "cells": [
  {
   "cell_type": "markdown",
   "metadata": {},
   "source": [
    "#### AR(1) process:\n",
    "\n",
    "We have a sequence of real numbers $y_t$ such that\n",
    "\n",
    "$$y_{t+1} = \\rho \\cdot y_t + u_{t+1}$$\n",
    "\n",
    "with $\\rho \\in \\lbrack 0,1 \\rbrack$ the \"persistence\" and $u_t \\equiv N(0,\\sigma_u^2)$ white noise.\n",
    "\n",
    "The variance of $y_t$ turns out to be \n",
    "\n",
    "$$\\sigma_y^2 = \\frac{\\sigma_u^2}{1-\\rho^2}\\:.$$\n",
    "\n",
    "Tuachen's method is a common method for approximating this continuous state process with a finite state Markov chain\n"
   ]
  },
  {
   "cell_type": "markdown",
   "metadata": {},
   "source": [
    "To define the state space\n",
    "\n",
    "$$ S = \\{x_0, x_1 ... x_{n-1} \\} $$\n",
    "\n",
    "One picks \n",
    "- n, the number of different, available, states (a mesh)\n",
    "- m, an integer, sets the range, in terms of the standard deviation $\\sigma_y$.\n",
    "\n",
    "One takes\n",
    "\n",
    "- $x_0 = -m \\cdot \\sigma_y$, the smallest value\n",
    "- $x_{n-1} = m \\cdot \\sigma_y$, the largest value\n",
    "- $x_{i+1} = x_i + d$, in-between values\n",
    "\n",
    "with $d = (x_{n-1} - x_0)/(n-1)$\n",
    "\n",
    "and a corresponding $n \\times n$ stochastic matrix $P$.\n",
    "\n",
    "P is built using $F$, the cum-normal distribution $N(0,\\sigma_u^2)$.\n",
    "\n",
    "Namely, the idea is that the transition probabilities follow from the character of $u_t$:\n",
    "\n",
    "$$P(x_i | x_j) = P(u \\approx x_i - x_j)$$"
   ]
  },
  {
   "cell_type": "code",
   "execution_count": 47,
   "metadata": {
    "collapsed": false
   },
   "outputs": [
    {
     "data": {
      "text/plain": [
       "myTauchen (generic function with 3 methods)"
      ]
     },
     "execution_count": 47,
     "metadata": {},
     "output_type": "execute_result"
    }
   ],
   "source": [
    "function myTauchen(rho, sigma_u, m=3,n=7)\n",
    "    sig_y = sqrt(sig_u^2/(1-rho^2))\n",
    "    smallest_x = -m*sig_y\n",
    "    largest_x = m*sig_y\n",
    "    S = linspace(smallest_x,largest_x,n)\n",
    "    d = S[2]-S[1]\n",
    "    F_{T <: Real}(x::T) = 0.5 * erfc(-x/sqrt(2))\n",
    "    P = zeros(n,n);\n",
    "    for i in 1:n, j in 1:n\n",
    "        if j == 1\n",
    "            P[i,1] = F_(S[1]+d/2-rho*S[i])\n",
    "        elseif j == n\n",
    "            P[i,n] = 1-F_(S[n]-d/2-rho*S[i])\n",
    "        else\n",
    "            P[i,j] = F_(S[j]+d/2-rho*S[i])-F_(S[j]-d/2-rho*S[i])\n",
    "        end\n",
    "    end\n",
    "    println(round(P,3))\n",
    "    return P\n",
    "end"
   ]
  },
  {
   "cell_type": "code",
   "execution_count": 49,
   "metadata": {
    "collapsed": false
   },
   "outputs": [
    {
     "name": "stdout",
     "output_type": "stream",
     "text": [
      "[0.124 0.376 0.376 0.114 0.01 0.0 0.0\n",
      " 0.042 0.24 0.436 0.24 0.04 0.002 0.0\n",
      " 0.01 0.114 0.376 0.376 0.114 0.01 0.0\n",
      " 0.002 0.04 0.24 0.436 0.24 0.04 0.002\n",
      " 0.0 0.01 0.114 0.376 0.376 0.114 0.01\n",
      " 0.0 0.002 0.04 0.24 0.436 0.24 0.042\n",
      " 0.0 0.0 0.01 0.114 0.376 0.376 0.124]\n"
     ]
    }
   ],
   "source": [
    "myTauchen(0.5,1);"
   ]
  },
  {
   "cell_type": "code",
   "execution_count": null,
   "metadata": {
    "collapsed": false
   },
   "outputs": [],
   "source": [
    "using PyPlot"
   ]
  },
  {
   "cell_type": "code",
   "execution_count": 52,
   "metadata": {
    "collapsed": true
   },
   "outputs": [],
   "source": [
    "workspace()"
   ]
  },
  {
   "cell_type": "code",
   "execution_count": null,
   "metadata": {
    "collapsed": true
   },
   "outputs": [],
   "source": []
  }
 ],
 "metadata": {
  "anaconda-cloud": {},
  "kernelspec": {
   "display_name": "Julia 0.4.6",
   "language": "julia",
   "name": "julia-0.4"
  },
  "language_info": {
   "file_extension": ".jl",
   "mimetype": "application/julia",
   "name": "julia",
   "version": "0.4.6"
  }
 },
 "nbformat": 4,
 "nbformat_minor": 1
}
